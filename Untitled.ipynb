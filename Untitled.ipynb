{
 "cells": [
  {
   "cell_type": "code",
   "execution_count": null,
   "metadata": {},
   "outputs": [],
   "source": [
    "import numpy as np\n",
    "import pandas as pd\n",
    "import matplotlib.pyplot as plt\n",
    "from sklearn.model_selection import train_test_split\n",
    "import seaborn as sns\n",
    "import eli5\n",
    "import shap\n",
    "from alibi.explainers import CounterFactual\n",
    "import lime\n",
    "from lime import lime_tabular\n",
    "\n",
    "from sklearn.pipeline import Pipeline\n",
    "from sklearn.preprocessing import StandardScaler\n",
    "from sklearn.decomposition import PCA\n",
    "from sklearn.ensemble import RandomForestClassifier\n",
    "from sklearn.svm import LinearSVC\n",
    "from sklearn.model_selection import cross_val_score, train_test_split\n",
    "from sklearn.linear_model import LogisticRegression\n",
    "from sklearn.neural_network import MLPClassifier\n",
    "from sklearn.ensemble import GradientBoostingClassifier\n",
    "from sklearn.inspection import plot_partial_dependence\n"
   ]
  },
  {
   "cell_type": "code",
   "execution_count": null,
   "metadata": {},
   "outputs": [],
   "source": [
    "brainwave_df = pd.read_csv('emotions.csv')\n",
    "brainwave_df.head()"
   ]
  },
  {
   "cell_type": "code",
   "execution_count": null,
   "metadata": {},
   "outputs": [],
   "source": [
    "brainwave_df.shape"
   ]
  },
  {
   "cell_type": "code",
   "execution_count": null,
   "metadata": {},
   "outputs": [],
   "source": [
    "plt.figure(figsize=(12,5))\n",
    "sns.countplot(x=brainwave_df.label, color='mediumseagreen')\n",
    "plt.title('Emotional sentiment class distribution', fontsize=16)\n",
    "plt.ylabel('Class Counts', fontsize=16)\n",
    "plt.xlabel('Class Label', fontsize=16)\n",
    "plt.xticks(rotation='vertical');"
   ]
  },
  {
   "cell_type": "code",
   "execution_count": null,
   "metadata": {},
   "outputs": [],
   "source": [
    "label_mapping = {'NEGATIVE': 0, 'NEUTRAL': 1, 'POSITIVE': 2}"
   ]
  },
  {
   "cell_type": "code",
   "execution_count": null,
   "metadata": {},
   "outputs": [],
   "source": [
    "def preprocess_inputs(df):\n",
    "    df = df.copy()\n",
    "    \n",
    "    df['label'] = df['label'].replace(label_mapping)\n",
    "    \n",
    "    y = df['label'].copy()\n",
    "    X = df.drop('label', axis=1).copy()\n",
    "    \n",
    "    X_train, X_test, y_train, y_test = train_test_split(X, y, train_size=0.7, random_state=123)\n",
    "    \n",
    "    return X_train, X_test, y_train, y_test"
   ]
  },
  {
   "cell_type": "code",
   "execution_count": null,
   "metadata": {},
   "outputs": [],
   "source": [
    "X_train, X_test, y_train, y_test = preprocess_inputs(brainwave_df)"
   ]
  },
  {
   "cell_type": "code",
   "execution_count": null,
   "metadata": {},
   "outputs": [],
   "source": [
    "X_test.head()"
   ]
  },
  {
   "cell_type": "code",
   "execution_count": null,
   "metadata": {},
   "outputs": [],
   "source": [
    "# pipelines = {\n",
    "#     \"SVM\": Pipeline([\n",
    "#         ('scaler', StandardScaler()),\n",
    "#         ('classifier', LinearSVC(max_iter=5000))\n",
    "#     ]),\n",
    "#     \"Random Forest\": Pipeline([\n",
    "#         ('scaler', StandardScaler()),\n",
    "#         ('classifier', RandomForestClassifier())\n",
    "#     ]),\n",
    "#     \"PCA + Logistic Regression\": Pipeline([\n",
    "#         ('scaler', StandardScaler()),\n",
    "#         ('PCA', PCA(n_components=2)),\n",
    "#         ('classifier', LogisticRegression())\n",
    "#     ]),\n",
    "#     \"Gradient Boosting\": Pipeline([\n",
    "#         ('scaler', StandardScaler()),\n",
    "#         ('classifier', GradientBoostingClassifier())\n",
    "#     ]),\n",
    "# }\n",
    "\n",
    "# # 파이프라인을 학습시킵니다.\n",
    "# for name, pipeline in pipelines.items():\n",
    "#     pipeline.fit(X_train, y_train)\n",
    "\n",
    "# # 점수를 얻습니다.\n",
    "# scores = {}\n",
    "# for name, pipeline in pipelines.items():\n",
    "#     scores[name] = pipeline.score(X_test, y_test)\n",
    "\n",
    "# # 점수를 출력합니다.\n",
    "# for name, score in scores.items():\n",
    "#     print(f\"{name}: {score}\")"
   ]
  },
  {
   "cell_type": "code",
   "execution_count": null,
   "metadata": {},
   "outputs": [],
   "source": [
    "# Scaling\n",
    "scaler = StandardScaler()\n",
    "X_train_scaled = scaler.fit_transform(X_train)\n",
    "X_test_scaled = scaler.transform(X_test)"
   ]
  },
  {
   "cell_type": "code",
   "execution_count": null,
   "metadata": {},
   "outputs": [],
   "source": [
    "# Feature Importance with RandomForestClassifier\n",
    "rf = RandomForestClassifier()\n",
    "rf.fit(X_train_scaled, y_train)\n",
    "rf_score = rf.score(X_test_scaled, y_test)"
   ]
  },
  {
   "cell_type": "code",
   "execution_count": null,
   "metadata": {},
   "outputs": [],
   "source": [
    "print(\"ELI5 Feature Importance\")\n",
    "rf_fi = eli5.explain_weights_df(rf, feature_names=X_train.columns.tolist())\n",
    "print(rf_fi)"
   ]
  },
  {
   "cell_type": "code",
   "execution_count": null,
   "metadata": {},
   "outputs": [],
   "source": [
    "print(\"Partial Dependence Plot (PDP)\")\n",
    "plot_partial_dependence(rf, X_train_scaled, features=[0, 1], target=0)"
   ]
  },
  {
   "cell_type": "code",
   "execution_count": null,
   "metadata": {},
   "outputs": [],
   "source": [
    "# SHAP\n",
    "shap.initjs()\n",
    "print(\"SHAP Values\")\n",
    "explainer = shap.Explainer(rf, X_train_scaled)\n",
    "shap_values = explainer(X_test_scaled)\n",
    "ap.plots.waterfall(shap_values[0])"
   ]
  },
  {
   "cell_type": "code",
   "execution_count": null,
   "metadata": {},
   "outputs": [],
   "source": [
    "# LIME\n",
    "print(\"LIME Explanations\")\n",
    "lime_explainer = lime_tabular.LimeTabularExplainer(X_train_scaled, feature_names=X_train.columns, mode='classification')\n",
    "explanation = lime_explainer.explain_instance(X_test_scaled[0], rf.predict_proba)\n",
    "explanation.show_in_notebook()"
   ]
  },
  {
   "cell_type": "code",
   "execution_count": null,
   "metadata": {},
   "outputs": [],
   "source": [
    "# Counterfactual Explanations\n",
    "print(\"Counterfactual Explanations\")\n",
    "counterfactual = CounterFactual(rf.predict, X_train_scaled.shape[1], lam_init=1e6, max_iter=100, tol=1e-5)\n",
    "counterfactual_instance = counterfactual.explain(X_test_scaled[0])\n",
    "print(\"Original instance: \")\n",
    "print(\"Target label: \", y_test.iloc[0])\n",
    "print(\"Predicted label (rf): \", rf.predict([X_test_scaled[0]])[0])"
   ]
  },
  {
   "cell_type": "code",
   "execution_count": null,
   "metadata": {},
   "outputs": [],
   "source": [
    "# Print counterfactual instance\n",
    "print(\"Counterfactual instance: \")\n",
    "print(\"Counterfactual label (rf): \", counterfactual_instance.cf['class'])"
   ]
  },
  {
   "cell_type": "code",
   "execution_count": null,
   "metadata": {},
   "outputs": [],
   "source": [
    "# PCA\n",
    "pca = PCA(n_components=2)\n",
    "X_train_pca = pca.fit_transform(X_train_scaled)\n",
    "X_test_pca = pca.transform(X_test_scaled)"
   ]
  },
  {
   "cell_type": "code",
   "execution_count": null,
   "metadata": {},
   "outputs": [],
   "source": [
    "# LinearSVC\n",
    "svc = LinearSVC(max_iter=5000)\n",
    "svc.fit(X_train_scaled, y_train)\n",
    "svc_score = svc.score(X_test_scaled, y_test)\n",
    "\n",
    "# LinearSVC coefficients\n",
    "svc_coef = svc.coef_\n",
    "svc_coef_df = pd.DataFrame({'feature': X_train.columns, 'coefficient': svc_coef[0]})\n",
    "print(\"LinearSVC coefficients:\")\n",
    "print(svc_coef_df)"
   ]
  },
  {
   "cell_type": "code",
   "execution_count": null,
   "metadata": {},
   "outputs": [],
   "source": [
    "# RandomForestClassifier\n",
    "rf = RandomForestClassifier()\n",
    "rf.fit(X_train_scaled, y_train)\n",
    "rf_score = rf.score(X_test_scaled, y_test)\n",
    "\n",
    "# RandomForest feature importance\n",
    "rf_importances = rf.feature_importances_\n",
    "rf_importance_df = pd.DataFrame({'feature': X_train.columns, 'importance': rf_importances})\n",
    "print(\"RandomForest feature importance:\")\n",
    "print(rf_importance_df.sort_values('importance', ascending=False))"
   ]
  },
  {
   "cell_type": "code",
   "execution_count": null,
   "metadata": {},
   "outputs": [],
   "source": [
    "# PCA + LogisticRegression\n",
    "logreg = LogisticRegression()\n",
    "logreg.fit(X_train_pca, y_train)\n",
    "logreg_score = logreg.score(X_test_pca, y_test)\n",
    "\n",
    "logreg_coef_df = pd.DataFrame({'feature': ['PC1', 'PC2'], 'coefficient': logreg_coef[0]})\n",
    "print(\"LogisticRegression coefficients:\")\n",
    "print(logreg_coef_df)"
   ]
  },
  {
   "cell_type": "code",
   "execution_count": null,
   "metadata": {},
   "outputs": [],
   "source": [
    "# GradientBoostingClassifier\n",
    "gb = GradientBoostingClassifier()\n",
    "gb.fit(X_train_scaled, y_train)\n",
    "gb_score = gb.score(X_test_scaled, y_test)\n",
    "\n",
    "# GradientBoosting feature importance\n",
    "gb_importances = gb.feature_importances_\n",
    "gb_importance_df = pd.DataFrame({'feature': X_train.columns, 'importance': gb_importances})\n",
    "print(\"GradientBoosting feature importance:\")\n",
    "print(gb_importance_df.sort_values('importance', ascending=False))"
   ]
  },
  {
   "cell_type": "code",
   "execution_count": null,
   "metadata": {},
   "outputs": [],
   "source": [
    "# 출력\n",
    "print(f\"SVM: {svc_score}\")\n",
    "print(f\"Random Forest: {rf_score}\")\n",
    "print(f\"PCA + Logistic Regression: {logreg_score}\")\n",
    "print(f\"Gradient Boosting: {gb_score}\")"
   ]
  },
  {
   "cell_type": "code",
   "execution_count": null,
   "metadata": {},
   "outputs": [],
   "source": [
    "# SHAP values for RandomForest\n",
    "explainer = shap.TreeExplainer(rf)\n",
    "shap_values = explainer.shap_values(X_train)\n",
    "shap.summary_plot(shap_values, X_train, plot_type=\"bar\")"
   ]
  },
  {
   "cell_type": "code",
   "execution_count": null,
   "metadata": {},
   "outputs": [],
   "source": []
  }
 ],
 "metadata": {
  "kernelspec": {
   "display_name": "Python 3 (ipykernel)",
   "language": "python",
   "name": "python3"
  },
  "language_info": {
   "codemirror_mode": {
    "name": "ipython",
    "version": 3
   },
   "file_extension": ".py",
   "mimetype": "text/x-python",
   "name": "python",
   "nbconvert_exporter": "python",
   "pygments_lexer": "ipython3",
   "version": "3.8.16"
  },
  "vscode": {
   "interpreter": {
    "hash": "0bf0c22b33be0f931364497880db0cff52ce92ee94821f566d4a20b21f72336c"
   }
  }
 },
 "nbformat": 4,
 "nbformat_minor": 4
}
